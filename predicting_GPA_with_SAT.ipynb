{
  "nbformat": 4,
  "nbformat_minor": 0,
  "metadata": {
    "colab": {
      "name": "predicting GPA with SAT.ipynb",
      "provenance": [],
      "authorship_tag": "ABX9TyPa2DRys0IizO8JJIjKdvD/",
      "include_colab_link": true
    },
    "kernelspec": {
      "name": "python3",
      "display_name": "Python 3"
    }
  },
  "cells": [
    {
      "cell_type": "markdown",
      "metadata": {
        "id": "view-in-github",
        "colab_type": "text"
      },
      "source": [
        "<a href=\"https://colab.research.google.com/github/axaysd/Data-Science-Projects/blob/master/predicting_GPA_with_SAT.ipynb\" target=\"_parent\"><img src=\"https://colab.research.google.com/assets/colab-badge.svg\" alt=\"Open In Colab\"/></a>"
      ]
    },
    {
      "cell_type": "code",
      "metadata": {
        "id": "wS0MURwY_Zlh",
        "colab_type": "code",
        "colab": {}
      },
      "source": [
        "import pandas as pd\n",
        "from sklearn.linear_model import LinearRegression\n",
        "from sklearn.metrics import mean_squared_error\n",
        "from sklearn.model_selection import train_test_split"
      ],
      "execution_count": 0,
      "outputs": []
    },
    {
      "cell_type": "code",
      "metadata": {
        "id": "fE-w85Bw_jFA",
        "colab_type": "code",
        "colab": {}
      },
      "source": [
        "satNgpa = pd.read_csv('SATnGPA.csv')"
      ],
      "execution_count": 0,
      "outputs": []
    },
    {
      "cell_type": "code",
      "metadata": {
        "id": "b5q3h5aR_3D9",
        "colab_type": "code",
        "colab": {
          "base_uri": "https://localhost:8080/",
          "height": 34
        },
        "outputId": "5dd7b3ab-eaf9-4fc0-efd1-e133b26b1ac8"
      },
      "source": [
        "print(\"Number of records: \"  + str(len(satNgpa.index)))"
      ],
      "execution_count": 74,
      "outputs": [
        {
          "output_type": "stream",
          "text": [
            "Number of records: 84\n"
          ],
          "name": "stdout"
        }
      ]
    },
    {
      "cell_type": "code",
      "metadata": {
        "id": "dFWJ8-_D_4U2",
        "colab_type": "code",
        "colab": {
          "base_uri": "https://localhost:8080/",
          "height": 119
        },
        "outputId": "f85d6f6c-0a0f-4604-d2fe-e2883e6794d8"
      },
      "source": [
        "print(satNgpa.head(5))"
      ],
      "execution_count": 75,
      "outputs": [
        {
          "output_type": "stream",
          "text": [
            "    SAT   GPA\n",
            "0  1714  2.40\n",
            "1  1664  2.52\n",
            "2  1760  2.54\n",
            "3  1685  2.74\n",
            "4  1693  2.83\n"
          ],
          "name": "stdout"
        }
      ]
    },
    {
      "cell_type": "code",
      "metadata": {
        "id": "jTdpKnNrE82I",
        "colab_type": "code",
        "colab": {}
      },
      "source": [
        "X = satNgpa.drop('GPA', axis=1)\n",
        "y = satNgpa.drop('SAT', axis=1)"
      ],
      "execution_count": 0,
      "outputs": []
    },
    {
      "cell_type": "code",
      "metadata": {
        "id": "r6qeb9LdE3sd",
        "colab_type": "code",
        "colab": {}
      },
      "source": [
        "X_train, X_test, y_train, y_test = train_test_split(X, y, test_size=0.3, random_state=1)"
      ],
      "execution_count": 0,
      "outputs": []
    },
    {
      "cell_type": "code",
      "metadata": {
        "id": "68QFBN6VE57B",
        "colab_type": "code",
        "colab": {}
      },
      "source": [
        "model = LinearRegression()"
      ],
      "execution_count": 0,
      "outputs": []
    },
    {
      "cell_type": "code",
      "metadata": {
        "id": "GbAU3MTQFNLq",
        "colab_type": "code",
        "colab": {
          "base_uri": "https://localhost:8080/",
          "height": 34
        },
        "outputId": "ce831124-0c16-4fe8-f2e8-77309a84f34e"
      },
      "source": [
        "model.fit(X_train, y_train)"
      ],
      "execution_count": 79,
      "outputs": [
        {
          "output_type": "execute_result",
          "data": {
            "text/plain": [
              "LinearRegression(copy_X=True, fit_intercept=True, n_jobs=None, normalize=False)"
            ]
          },
          "metadata": {
            "tags": []
          },
          "execution_count": 79
        }
      ]
    },
    {
      "cell_type": "code",
      "metadata": {
        "id": "AK7rKNeCGF-o",
        "colab_type": "code",
        "colab": {}
      },
      "source": [
        "predict_train = model.predict(X_train)"
      ],
      "execution_count": 0,
      "outputs": []
    },
    {
      "cell_type": "code",
      "metadata": {
        "id": "g9gc_vXqGP51",
        "colab_type": "code",
        "colab": {
          "base_uri": "https://localhost:8080/",
          "height": 34
        },
        "outputId": "60c295d4-fd73-4424-99df-bde501f978ed"
      },
      "source": [
        "rsme_train = mean_squared_error(y_train, predict_train)**0.5\n",
        "rsme_train"
      ],
      "execution_count": 81,
      "outputs": [
        {
          "output_type": "execute_result",
          "data": {
            "text/plain": [
              "0.19636474038603816"
            ]
          },
          "metadata": {
            "tags": []
          },
          "execution_count": 81
        }
      ]
    },
    {
      "cell_type": "code",
      "metadata": {
        "id": "RXx9LuENGTV2",
        "colab_type": "code",
        "colab": {
          "base_uri": "https://localhost:8080/",
          "height": 1000
        },
        "outputId": "8e657e55-6a38-412f-93ac-af8db8af6eb3"
      },
      "source": [
        "print(y_train)"
      ],
      "execution_count": 85,
      "outputs": [
        {
          "output_type": "stream",
          "text": [
            "     GPA\n",
            "69  3.58\n",
            "52  3.42\n",
            "19  3.19\n",
            "44  3.39\n",
            "76  3.64\n",
            "70  3.59\n",
            "26  3.28\n",
            "82  3.76\n",
            "45  3.40\n",
            "63  3.51\n",
            "39  3.37\n",
            "21  3.19\n",
            "73  3.60\n",
            "3   2.74\n",
            "51  3.42\n",
            "57  3.47\n",
            "46  3.40\n",
            "42  3.38\n",
            "54  3.44\n",
            "24  3.24\n",
            "8   3.01\n",
            "17  3.17\n",
            "0   2.40\n",
            "79  3.71\n",
            "58  3.47\n",
            "7   3.00\n",
            "80  3.71\n",
            "60  3.49\n",
            "13  3.08\n",
            "22  3.20\n",
            "32  3.29\n",
            "30  3.28\n",
            "55  3.47\n",
            "49  3.41\n",
            "41  3.38\n",
            "62  3.50\n",
            "23  3.21\n",
            "4   2.83\n",
            "74  3.61\n",
            "14  3.12\n",
            "29  3.28\n",
            "28  3.28\n",
            "11  3.07\n",
            "18  3.17\n",
            "20  3.19\n",
            "50  3.41\n",
            "25  3.28\n",
            "6   3.00\n",
            "71  3.59\n",
            "1   2.52\n",
            "16  3.17\n",
            "64  3.51\n",
            "5   2.91\n",
            "75  3.62\n",
            "9   3.01\n",
            "72  3.60\n",
            "12  3.08\n",
            "37  3.34\n"
          ],
          "name": "stdout"
        }
      ]
    },
    {
      "cell_type": "code",
      "metadata": {
        "id": "3rRj6My9HQYA",
        "colab_type": "code",
        "colab": {}
      },
      "source": [
        ""
      ],
      "execution_count": 0,
      "outputs": []
    }
  ]
}