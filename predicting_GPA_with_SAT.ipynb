{
  "nbformat": 4,
  "nbformat_minor": 0,
  "metadata": {
    "colab": {
      "name": "predicting GPA with SAT.ipynb",
      "provenance": [],
      "authorship_tag": "ABX9TyONOpg3TxQeZt4W/tzZPhOV",
      "include_colab_link": true
    },
    "kernelspec": {
      "name": "python3",
      "display_name": "Python 3"
    }
  },
  "cells": [
    {
      "cell_type": "markdown",
      "metadata": {
        "id": "view-in-github",
        "colab_type": "text"
      },
      "source": [
        "<a href=\"https://colab.research.google.com/github/axaysd/Data-Science-Projects/blob/master/predicting_GPA_with_SAT.ipynb\" target=\"_parent\"><img src=\"https://colab.research.google.com/assets/colab-badge.svg\" alt=\"Open In Colab\"/></a>"
      ]
    },
    {
      "cell_type": "code",
      "metadata": {
        "id": "wS0MURwY_Zlh",
        "colab_type": "code",
        "colab": {}
      },
      "source": [
        "import pandas as pd\n",
        "from sklearn.linear_model import LinearRegression\n",
        "from sklearn.metrics import mean_squared_error\n",
        "from sklearn.model_selection import train_test_split"
      ],
      "execution_count": 0,
      "outputs": []
    },
    {
      "cell_type": "code",
      "metadata": {
        "id": "fE-w85Bw_jFA",
        "colab_type": "code",
        "colab": {}
      },
      "source": [
        "satNgpa = pd.read_csv('SATnGPA.csv')"
      ],
      "execution_count": 0,
      "outputs": []
    },
    {
      "cell_type": "code",
      "metadata": {
        "id": "b5q3h5aR_3D9",
        "colab_type": "code",
        "colab": {
          "base_uri": "https://localhost:8080/",
          "height": 34
        },
        "outputId": "5dd7b3ab-eaf9-4fc0-efd1-e133b26b1ac8"
      },
      "source": [
        "print(\"Number of records: \"  + str(len(satNgpa.index)))"
      ],
      "execution_count": 74,
      "outputs": [
        {
          "output_type": "stream",
          "text": [
            "Number of records: 84\n"
          ],
          "name": "stdout"
        }
      ]
    },
    {
      "cell_type": "code",
      "metadata": {
        "id": "dFWJ8-_D_4U2",
        "colab_type": "code",
        "colab": {
          "base_uri": "https://localhost:8080/",
          "height": 119
        },
        "outputId": "f85d6f6c-0a0f-4604-d2fe-e2883e6794d8"
      },
      "source": [
        "print(satNgpa.head(5))"
      ],
      "execution_count": 75,
      "outputs": [
        {
          "output_type": "stream",
          "text": [
            "    SAT   GPA\n",
            "0  1714  2.40\n",
            "1  1664  2.52\n",
            "2  1760  2.54\n",
            "3  1685  2.74\n",
            "4  1693  2.83\n"
          ],
          "name": "stdout"
        }
      ]
    },
    {
      "cell_type": "code",
      "metadata": {
        "id": "jTdpKnNrE82I",
        "colab_type": "code",
        "colab": {}
      },
      "source": [
        "X = satNgpa.drop('GPA', axis=1)\n",
        "y = satNgpa.drop('SAT', axis=1)"
      ],
      "execution_count": 0,
      "outputs": []
    },
    {
      "cell_type": "code",
      "metadata": {
        "id": "r6qeb9LdE3sd",
        "colab_type": "code",
        "colab": {}
      },
      "source": [
        "X_train, X_test, y_train, y_test = train_test_split(X, y, test_size=0.3, random_state=1)"
      ],
      "execution_count": 0,
      "outputs": []
    },
    {
      "cell_type": "code",
      "metadata": {
        "id": "68QFBN6VE57B",
        "colab_type": "code",
        "colab": {}
      },
      "source": [
        "model = LinearRegression()"
      ],
      "execution_count": 0,
      "outputs": []
    },
    {
      "cell_type": "code",
      "metadata": {
        "id": "GbAU3MTQFNLq",
        "colab_type": "code",
        "colab": {
          "base_uri": "https://localhost:8080/",
          "height": 34
        },
        "outputId": "ce831124-0c16-4fe8-f2e8-77309a84f34e"
      },
      "source": [
        "model.fit(X_train, y_train)"
      ],
      "execution_count": 79,
      "outputs": [
        {
          "output_type": "execute_result",
          "data": {
            "text/plain": [
              "LinearRegression(copy_X=True, fit_intercept=True, n_jobs=None, normalize=False)"
            ]
          },
          "metadata": {
            "tags": []
          },
          "execution_count": 79
        }
      ]
    },
    {
      "cell_type": "code",
      "metadata": {
        "id": "AK7rKNeCGF-o",
        "colab_type": "code",
        "colab": {}
      },
      "source": [
        "predict_train = model.predict(X_train)"
      ],
      "execution_count": 0,
      "outputs": []
    },
    {
      "cell_type": "code",
      "metadata": {
        "id": "g9gc_vXqGP51",
        "colab_type": "code",
        "colab": {
          "base_uri": "https://localhost:8080/",
          "height": 34
        },
        "outputId": "60c295d4-fd73-4424-99df-bde501f978ed"
      },
      "source": [
        "rsme_train = mean_squared_error(y_train, predict_train)**0.5\n",
        "rsme_train"
      ],
      "execution_count": 81,
      "outputs": [
        {
          "output_type": "execute_result",
          "data": {
            "text/plain": [
              "0.19636474038603816"
            ]
          },
          "metadata": {
            "tags": []
          },
          "execution_count": 81
        }
      ]
    },
    {
      "cell_type": "code",
      "metadata": {
        "id": "RXx9LuENGTV2",
        "colab_type": "code",
        "colab": {
          "base_uri": "https://localhost:8080/",
          "height": 1000
        },
        "outputId": "8ff76e43-37e2-4342-9359-3e9818f5b7e9"
      },
      "source": [
        "print(\"Error difference between predicted and actual GPA: \" + str(predict_train - y_train))"
      ],
      "execution_count": 88,
      "outputs": [
        {
          "output_type": "stream",
          "text": [
            "Error difference between predicted and actual GPA:          GPA\n",
            "69 -0.122537\n",
            "52 -0.005559\n",
            "19  0.007541\n",
            "44  0.173224\n",
            "76 -0.064228\n",
            "70 -0.128952\n",
            "26 -0.080667\n",
            "82 -0.246968\n",
            "45  0.046707\n",
            "63  0.144645\n",
            "39 -0.091794\n",
            "21 -0.107183\n",
            "73 -0.137160\n",
            "3   0.276492\n",
            "51 -0.098772\n",
            "57  0.026899\n",
            "46 -0.134342\n",
            "42  0.140203\n",
            "54 -0.075751\n",
            "24  0.294543\n",
            "8   0.198296\n",
            "17 -0.173227\n",
            "0   0.668476\n",
            "79 -0.243574\n",
            "58 -0.281422\n",
            "7   0.158104\n",
            "80 -0.469438\n",
            "60  0.026617\n",
            "13 -0.015109\n",
            "22 -0.222945\n",
            "32 -0.112177\n",
            "30 -0.112933\n",
            "55 -0.091410\n",
            "49  0.133506\n",
            "41 -0.067735\n",
            "62 -0.110655\n",
            "23 -0.189923\n",
            "4   0.200832\n",
            "74  0.008794\n",
            "14  0.054237\n",
            "29 -0.068119\n",
            "28  0.337001\n",
            "11  0.107823\n",
            "18  0.127924\n",
            "20 -0.037273\n",
            "50 -0.183778\n",
            "25 -0.010757\n",
            "6   0.158104\n",
            "71 -0.406800\n",
            "1   0.458848\n",
            "16 -0.028029\n",
            "64 -0.120655\n",
            "5   0.079603\n",
            "75 -0.011962\n",
            "9   0.302265\n",
            "72 -0.063664\n",
            "12  0.026120\n",
            "37  0.158692\n"
          ],
          "name": "stdout"
        }
      ]
    },
    {
      "cell_type": "code",
      "metadata": {
        "id": "3rRj6My9HQYA",
        "colab_type": "code",
        "colab": {}
      },
      "source": [
        ""
      ],
      "execution_count": 0,
      "outputs": []
    }
  ]
}